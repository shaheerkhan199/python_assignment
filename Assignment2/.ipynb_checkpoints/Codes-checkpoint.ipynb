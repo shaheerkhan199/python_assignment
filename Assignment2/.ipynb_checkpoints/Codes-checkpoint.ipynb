{
 "cells": [
  {
   "cell_type": "code",
   "execution_count": 9,
   "metadata": {},
   "outputs": [
    {
     "name": "stdout",
     "output_type": "stream",
     "text": [
      "Enter the marks of subject 1\n",
      "45\n",
      "Enter the marks of subject 2\n",
      "95\n",
      "Enter the marks of subject 3\n",
      "85\n",
      "Enter the marks of subject 4\n",
      "45\n",
      "Enter the marks of subject 5\n",
      "62\n",
      "Your total obtained marks is  332  out of  500\n",
      "Your percentage is  66\n",
      "Your Grade is B\n"
     ]
    }
   ],
   "source": [
    "#Each subject has 100 marks\n",
    "marks = list()\n",
    "total_marks = 0\n",
    "for i in range(5):\n",
    "    print(\"Enter the marks of subject\",i+1)\n",
    "    m = int(input(\"\"))\n",
    "    marks.append(m)\n",
    "    total_marks += 100\n",
    "ob_marks = sum(marks)\n",
    "print(\"Your total obtained marks is \", ob_marks , \" out of \" , total_marks)\n",
    "per = int((ob_marks/total_marks)*100)\n",
    "print(\"Your percentage is \", per) \n",
    "\n",
    "if(per>=91 and per<=100):\n",
    "    print(\"Your Grade is A+\");\n",
    "elif(per>=81 and per<=90):\n",
    "    print(\"Your Grade is A\");\n",
    "elif(per>=71 and per<=80):\n",
    "    print(\"Your Grade is B+\");\n",
    "elif(per>=61 and per<=70):\n",
    "    print(\"Your Grade is B\");\n",
    "elif(per>=51 and per<=60):\n",
    "    print(\"Your Grade is C+\");\n",
    "elif(per>=41 and per<=50):\n",
    "    print(\"Your Grade is C\");\n",
    "elif(per>=0 and per<=40):\n",
    "    print(\"Your Grade is F\");\n",
    "else:\n",
    "    print(\"Strange Grade..!!\");"
   ]
  },
  {
   "cell_type": "code",
   "execution_count": 3,
   "metadata": {},
   "outputs": [
    {
     "name": "stdout",
     "output_type": "stream",
     "text": [
      "Enter an integer number :1\n",
      "Number is Odd\n"
     ]
    }
   ],
   "source": [
    "#Question 2\n",
    "num = int(input(\"Enter an integer number :\"))\n",
    "if num % 2 == 0:\n",
    "    print(\"Number is even\")\n",
    "else:\n",
    "    print(\"Number is Odd\")"
   ]
  },
  {
   "cell_type": "code",
   "execution_count": 4,
   "metadata": {},
   "outputs": [
    {
     "name": "stdout",
     "output_type": "stream",
     "text": [
      "Length of list is: 4\n"
     ]
    }
   ],
   "source": [
    "#Question 3\n",
    "cities = [\"Karachi\",\"Lahore\",\"Islamabad\",\"Multan\"]\n",
    "print(\"Length of list is:\",len(cities))"
   ]
  },
  {
   "cell_type": "code",
   "execution_count": 6,
   "metadata": {},
   "outputs": [
    {
     "name": "stdout",
     "output_type": "stream",
     "text": [
      "Sum of only integers is : 106\n"
     ]
    }
   ],
   "source": [
    "#Question 4\n",
    "data = [1,2,6,89,'a','apple',8,'Pakistan']\n",
    "sumOfNum = 0 \n",
    "for i in data:\n",
    "    if isinstance(i, int):\n",
    "        sumOfNum+=i\n",
    "print(\"Sum of only integers is :\", sumOfNum)"
   ]
  },
  {
   "cell_type": "code",
   "execution_count": 7,
   "metadata": {},
   "outputs": [
    {
     "name": "stdout",
     "output_type": "stream",
     "text": [
      "Largest num in list is 548\n"
     ]
    }
   ],
   "source": [
    "#Question 5\n",
    "numbers = [12,32,548,5,65,2,4,7,0]\n",
    "print(\"Largest num in list is\", max(numbers))"
   ]
  },
  {
   "cell_type": "code",
   "execution_count": 8,
   "metadata": {},
   "outputs": [
    {
     "name": "stdout",
     "output_type": "stream",
     "text": [
      "1\n",
      "1\n",
      "2\n",
      "3\n"
     ]
    }
   ],
   "source": [
    "#Question 6\n",
    "a = [1, 1, 2, 3, 5, 8, 13, 21, 34, 55, 89]\n",
    "for i in a:\n",
    "    if i < 5:\n",
    "        print(i)"
   ]
  },
  {
   "cell_type": "code",
   "execution_count": null,
   "metadata": {},
   "outputs": [],
   "source": []
  }
 ],
 "metadata": {
  "kernelspec": {
   "display_name": "Python 3",
   "language": "python",
   "name": "python3"
  },
  "language_info": {
   "codemirror_mode": {
    "name": "ipython",
    "version": 3
   },
   "file_extension": ".py",
   "mimetype": "text/x-python",
   "name": "python",
   "nbconvert_exporter": "python",
   "pygments_lexer": "ipython3",
   "version": "3.7.1"
  }
 },
 "nbformat": 4,
 "nbformat_minor": 2
}
