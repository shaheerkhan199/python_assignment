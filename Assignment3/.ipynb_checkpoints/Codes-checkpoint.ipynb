{
 "cells": [
  {
   "cell_type": "code",
   "execution_count": 2,
   "metadata": {},
   "outputs": [
    {
     "name": "stdout",
     "output_type": "stream",
     "text": [
      "Select operation.\n",
      "1.Add\n",
      "2.Subtract\n",
      "3.Multiply\n",
      "4.Divide\n",
      "Enter choice(1/2/3/4): 2\n",
      "Enter first number: 9\n",
      "Enter second number: 10\n",
      "9.0 - 10.0 = -1.0\n"
     ]
    }
   ],
   "source": [
    "# Question 1\n",
    "def addition(x,y):\n",
    "    return x+y\n",
    "def subtraction(x,y):\n",
    "    return x-y\n",
    "def multiplication(x,y):\n",
    "    return x*y\n",
    "def division(x,y):\n",
    "    return x//y\n",
    "\n",
    "print(\"Select operation.\")\n",
    "print(\"1.Add\")\n",
    "print(\"2.Subtract\")\n",
    "print(\"3.Multiply\")\n",
    "print(\"4.Divide\")\n",
    "# Take input from the user \n",
    "choice = input(\"Enter choice(1/2/3/4): \")\n",
    "num1 = float(input(\"Enter first number: \"))\n",
    "num2 = float(input(\"Enter second number: \"))\n",
    "\n",
    "if choice == '1':\n",
    "    print(num1,\"+\",num2,\"=\", addition(num1,num2))\n",
    "elif choice == '2':\n",
    "    print(num1,\"-\",num2,\"=\", subtraction(num1,num2))\n",
    "elif choice == '3':\n",
    "    print(num1,\"*\",num2,\"=\", multiplication(num1,num2))\n",
    "elif choice == '4':\n",
    "    print(num1,\"/\",num2,\"=\", division(num1,num2))\n",
    "else:\n",
    "    print(\"Invalid input\")\n"
   ]
  },
  {
   "cell_type": "code",
   "execution_count": 8,
   "metadata": {},
   "outputs": [
    {
     "name": "stdout",
     "output_type": "stream",
     "text": [
      "List contain a numeric value\n"
     ]
    }
   ],
   "source": [
    "# Question 2\n",
    "data = ['hello','i','am', 'writing','codes',2,'in','python']\n",
    "for i in data:\n",
    "    if isinstance(i,int):\n",
    "        print(\"List contain a numeric value\")"
   ]
  },
  {
   "cell_type": "code",
   "execution_count": 9,
   "metadata": {},
   "outputs": [
    {
     "name": "stdout",
     "output_type": "stream",
     "text": [
      "{'1': 'Ali', '2': 'Kashif', 3: ''}\n"
     ]
    }
   ],
   "source": [
    "# Question 3\n",
    "customers = {\n",
    "    '1':'Ali',\n",
    "    '2':'Kashif'\n",
    "}\n",
    "customers[3] = ''\n",
    "print(customers)"
   ]
  },
  {
   "cell_type": "code",
   "execution_count": 18,
   "metadata": {},
   "outputs": [
    {
     "name": "stdout",
     "output_type": "stream",
     "text": [
      "5275\n"
     ]
    }
   ],
   "source": [
    "# Question 4\n",
    "data = {\n",
    "    'sales':5000,\n",
    "    'height':25,\n",
    "    'area':'karachi',\n",
    "    'noOfUnits':250\n",
    "}\n",
    "sumOfNumItems = 0\n",
    "for k,v in data.items():\n",
    "    if isinstance(v,(int,float)):\n",
    "        sumOfNumItems+=v\n",
    "\n",
    "print(sumOfNumItems)\n",
    "    \n"
   ]
  },
  {
   "cell_type": "code",
   "execution_count": 36,
   "metadata": {},
   "outputs": [
    {
     "name": "stdout",
     "output_type": "stream",
     "text": [
      "{1, 2, 5}\n"
     ]
    }
   ],
   "source": [
    "# Question 5 \n",
    "data = [1,2,3,2,1,5,6,5,5,5]\n",
    "unique = []\n",
    "duplicates = set()\n",
    "for i in data:\n",
    "    if data.count(i) > 1:\n",
    "        duplicates.add(i)\n",
    "        \n",
    "print(duplicates)        "
   ]
  },
  {
   "cell_type": "code",
   "execution_count": 28,
   "metadata": {},
   "outputs": [
    {
     "name": "stdout",
     "output_type": "stream",
     "text": [
      "Key already exist in dictionary\n"
     ]
    }
   ],
   "source": [
    "# Question 6\n",
    "key = \"sales\" \n",
    "data = {\n",
    "    'sales':5000,\n",
    "    'height':25,\n",
    "    'area':'karachi',\n",
    "    'noOfUnits':250\n",
    "}\n",
    "for k,v in data.items():\n",
    "    if k == key:\n",
    "        print(\"Key already exist in dictionary\")"
   ]
  },
  {
   "cell_type": "code",
   "execution_count": null,
   "metadata": {},
   "outputs": [],
   "source": []
  }
 ],
 "metadata": {
  "kernelspec": {
   "display_name": "Python 3",
   "language": "python",
   "name": "python3"
  },
  "language_info": {
   "codemirror_mode": {
    "name": "ipython",
    "version": 3
   },
   "file_extension": ".py",
   "mimetype": "text/x-python",
   "name": "python",
   "nbconvert_exporter": "python",
   "pygments_lexer": "ipython3",
   "version": "3.7.1"
  }
 },
 "nbformat": 4,
 "nbformat_minor": 2
}
