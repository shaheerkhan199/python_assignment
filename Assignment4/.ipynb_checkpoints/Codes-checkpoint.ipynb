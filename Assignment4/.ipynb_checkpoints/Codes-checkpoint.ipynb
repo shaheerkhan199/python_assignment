{
 "cells": [
  {
   "cell_type": "markdown",
   "metadata": {},
   "source": [
    "# Question 1"
   ]
  },
  {
   "cell_type": "code",
   "execution_count": 9,
   "metadata": {},
   "outputs": [
    {
     "name": "stdout",
     "output_type": "stream",
     "text": [
      "*************\n",
      "First_Name  is  Ghaffar\n",
      "Last_Name  is  Ahmed Sheikh\n",
      "Age  is  22\n",
      "City  is  Jamshoro\n",
      "**********After inserting qualification**********\n",
      "First_Name  is  Ghaffar\n",
      "Last_Name  is  Ahmed Sheikh\n",
      "Age  is  22\n",
      "City  is  Jamshoro\n",
      "Qualification  is  Intermediate\n",
      "********After updating qualification*****\n",
      "First_Name  is  Ghaffar\n",
      "Last_Name  is  Ahmed Sheikh\n",
      "Age  is  22\n",
      "City  is  Jamshoro\n",
      "Qualification  is  Masters in Data science\n",
      "********After deleting qualification*****\n",
      "First_Name  is  Ghaffar\n",
      "Last_Name  is  Ahmed Sheikh\n",
      "Age  is  22\n",
      "City  is  Jamshoro\n"
     ]
    }
   ],
   "source": [
    "person = {\n",
    "    \"first_name\":\"Ghaffar\",\n",
    "    \"last_name\":\"Ahmed Sheikh\",\n",
    "    \"age\":22,\n",
    "    \"city\":\"Jamshoro\"\n",
    "}\n",
    "print(\"*************\")\n",
    "for k,v in person.items():\n",
    "    print(k.title(),\" is \" , v)\n",
    "    \n",
    "print(\"**********After inserting qualification**********\")\n",
    "person['qualification'] = \"Intermediate\"\n",
    "for k,v in person.items():\n",
    "    print(k.title(),\" is \" , v)\n",
    "    \n",
    "print(\"********After updating qualification*****\")\n",
    "person['qualification'] = \"Masters in Data science\"\n",
    "for k,v in person.items():\n",
    "    print(k.title(),\" is \" , v)\n",
    "\n",
    "print(\"********After deleting qualification*****\")\n",
    "del person['qualification'] \n",
    "for k,v in person.items():\n",
    "    print(k.title(),\" is \" , v)"
   ]
  },
  {
   "cell_type": "markdown",
   "metadata": {},
   "source": [
    "# Question 2"
   ]
  },
  {
   "cell_type": "code",
   "execution_count": 29,
   "metadata": {},
   "outputs": [
    {
     "name": "stdout",
     "output_type": "stream",
     "text": [
      "City is: Makkah\n",
      "Country is: Saudi Arabia\n",
      "Population is: 1,323,624\n",
      "Fact is: Our holy place is in Makkah City\n",
      "*************\n",
      "City is: Islamabad\n",
      "Country is: Pakistan\n",
      "Population is: 1,095,064\n",
      "Fact is: It is the capital of Pakistan\n",
      "*************\n",
      "City is: California\n",
      "Country is: United States of America\n",
      "Population is: 39,750,000\n",
      "Fact is: Google headquarter is located in California\n",
      "*************\n"
     ]
    }
   ],
   "source": [
    "cities = {\n",
    "    \"Makkah\": {\n",
    "        \"country\":\"Saudi Arabia\",\n",
    "        \"population\":\"1,323,624\",\n",
    "        \"fact\":\"Our holy place is in Makkah City\"\n",
    "    },\n",
    "    \"Islamabad\": {\n",
    "        \"country\":\"Pakistan\",\n",
    "        \"population\":\"1,095,064\",\n",
    "        \"fact\":\"It is the capital of Pakistan\"\n",
    "    },\n",
    "    \"California\": {\n",
    "        \"country\":\"United States of America\",\n",
    "        \"population\":\"39,750,000\",\n",
    "        \"fact\":\"Google headquarter is located in California\"\n",
    "    }\n",
    "}\n",
    "\n",
    "for city,des in cities.items():\n",
    "    print(\"City is:\",city)\n",
    "    for k , v in des.items():\n",
    "        print(k.title(),\"is:\",v)\n",
    "    print(\"*************\")\n",
    "        "
   ]
  },
  {
   "cell_type": "markdown",
   "metadata": {},
   "source": [
    "# Question 3"
   ]
  },
  {
   "cell_type": "code",
   "execution_count": 3,
   "metadata": {},
   "outputs": [
    {
     "name": "stdout",
     "output_type": "stream",
     "text": [
      "Enter your age2\n",
      "The ticket is free for you\n",
      "Enter your age3\n",
      "You have to pay $10 for ticket\n",
      "Enter your age5\n",
      "You have to pay $10 for ticket\n",
      "Enter your age12\n",
      "You have to pay $10 for ticket\n",
      "Enter your age13\n",
      "You have to pay $15 for ticket\n"
     ]
    }
   ],
   "source": [
    "for i in range(5):\n",
    "    age = int(input(\"Enter your age\"))\n",
    "    if age < 3:\n",
    "        print(\"The ticket is free for you\")\n",
    "    elif age >= 3 and age <= 12:\n",
    "        print(\"You have to pay $10 for ticket\")\n",
    "    else:\n",
    "        print(\"You have to pay $15 for ticket\")"
   ]
  },
  {
   "cell_type": "markdown",
   "metadata": {},
   "source": [
    "# Question 4"
   ]
  },
  {
   "cell_type": "code",
   "execution_count": 1,
   "metadata": {},
   "outputs": [
    {
     "name": "stdout",
     "output_type": "stream",
     "text": [
      "One of my favorite books is  Alice in Wonderland\n"
     ]
    }
   ],
   "source": [
    "def favorite_book(book_title):\n",
    "    print(\"One of my favorite books is \", book_title)\n",
    "\n",
    "favorite_book(\"Alice in Wonderland\")"
   ]
  },
  {
   "cell_type": "markdown",
   "metadata": {},
   "source": [
    "# Question 5"
   ]
  },
  {
   "cell_type": "code",
   "execution_count": 2,
   "metadata": {},
   "outputs": [
    {
     "name": "stdout",
     "output_type": "stream",
     "text": [
      "What is your guess?21\n",
      "Hidden Number is greater than your guess\n",
      "What is your guess?22\n",
      "Hidden Number is greater than your guess\n",
      "What is your guess?23\n",
      "Hidden Number is greater than your guess\n"
     ]
    }
   ],
   "source": [
    "import random\n",
    "random_number = random.randint(1,30)\n",
    "attempts = 1\n",
    "while attempts <= 3:\n",
    "    guess = int(input(\"What is your guess?\"))\n",
    "    attempts += 1\n",
    "    if guess == random_number:\n",
    "        print(\"You win! your guess is right\")\n",
    "        break\n",
    "    elif guess < random_number:\n",
    "        print(\"Hidden Number is greater than your guess\")\n",
    "        continue\n",
    "    elif guess > random_number:\n",
    "        print(\"Hidden Number is smaller than your guess\")\n",
    "        continue\n",
    "    else:\n",
    "        attempts += 1\n",
    "        print(\"Wrong guess!!!\")\n",
    "        continue\n",
    "    "
   ]
  },
  {
   "cell_type": "code",
   "execution_count": null,
   "metadata": {},
   "outputs": [],
   "source": []
  },
  {
   "cell_type": "code",
   "execution_count": null,
   "metadata": {},
   "outputs": [],
   "source": []
  }
 ],
 "metadata": {
  "kernelspec": {
   "display_name": "Python 3",
   "language": "python",
   "name": "python3"
  },
  "language_info": {
   "codemirror_mode": {
    "name": "ipython",
    "version": 3
   },
   "file_extension": ".py",
   "mimetype": "text/x-python",
   "name": "python",
   "nbconvert_exporter": "python",
   "pygments_lexer": "ipython3",
   "version": "3.7.1"
  }
 },
 "nbformat": 4,
 "nbformat_minor": 2
}
