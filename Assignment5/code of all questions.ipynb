{
 "cells": [
  {
   "cell_type": "markdown",
   "metadata": {},
   "source": [
    "# Question 1"
   ]
  },
  {
   "cell_type": "code",
   "execution_count": 4,
   "metadata": {},
   "outputs": [
    {
     "name": "stdout",
     "output_type": "stream",
     "text": [
      "120\n"
     ]
    }
   ],
   "source": [
    "def factorial(n):\n",
    "    if n <= 0:\n",
    "        print(\"Number should be greater than 0\")\n",
    "        return\n",
    "    elif n == 1:\n",
    "        return 1\n",
    "    elif n == 2:\n",
    "        return 2\n",
    "    else:\n",
    "        return n*factorial(n-1)\n",
    "print(factorial(5))\n",
    "    "
   ]
  },
  {
   "cell_type": "markdown",
   "metadata": {},
   "source": [
    "# Question 2"
   ]
  },
  {
   "cell_type": "code",
   "execution_count": 8,
   "metadata": {},
   "outputs": [
    {
     "name": "stdout",
     "output_type": "stream",
     "text": [
      "Enter any string with upper case and lower case letters:Saylani is the Best\n",
      "No of Upper case character is : 2\n",
      "No of Lower case character is : 14\n"
     ]
    }
   ],
   "source": [
    "sentence = input(\"Enter any string with upper case and lower case letters:\")\n",
    "listOfWords = sentence.split(\" \")\n",
    "countOfUpperCase = 0\n",
    "countOfLowerCase = 0\n",
    "for word in listOfWords:\n",
    "    for alphabet in word:\n",
    "        if alphabet.isupper():\n",
    "            countOfUpperCase += 1\n",
    "        elif alphabet.islower():\n",
    "            countOfLowerCase += 1\n",
    "        else:\n",
    "            continue\n",
    "print(\"No of Upper case character is :\", countOfUpperCase)\n",
    "print(\"No of Lower case character is :\", countOfLowerCase)            "
   ]
  },
  {
   "cell_type": "markdown",
   "metadata": {},
   "source": [
    "# Question 3"
   ]
  },
  {
   "cell_type": "code",
   "execution_count": 11,
   "metadata": {},
   "outputs": [
    {
     "name": "stdout",
     "output_type": "stream",
     "text": [
      "Even Numbers are :\n",
      "2\n",
      "4\n",
      "8\n",
      "12\n"
     ]
    }
   ],
   "source": [
    "def printEvenNumbers(listOfNumbers):\n",
    "    print(\"Even Numbers are :\")\n",
    "    for num in listOfNumbers:\n",
    "        if num % 2 == 0:\n",
    "            print(num)\n",
    "numbers = [2,5,9,7,4,8,15,65,85,12]\n",
    "printEvenNumbers(numbers)"
   ]
  },
  {
   "cell_type": "markdown",
   "metadata": {},
   "source": [
    "# Question 4"
   ]
  },
  {
   "cell_type": "code",
   "execution_count": 19,
   "metadata": {},
   "outputs": [
    {
     "name": "stdout",
     "output_type": "stream",
     "text": [
      "Enter any string to check for palandrome: madam\n",
      "Your string is palandrome\n"
     ]
    }
   ],
   "source": [
    "string = input(\"Enter any string to check for palandrome: \")\n",
    "if string == string[::-1]:\n",
    "    print(\"Your string is palandrome\")\n",
    "else:\n",
    "    print(\"Your string is not palandrome\")"
   ]
  },
  {
   "cell_type": "markdown",
   "metadata": {},
   "source": [
    "# Question 5"
   ]
  },
  {
   "cell_type": "code",
   "execution_count": 31,
   "metadata": {},
   "outputs": [
    {
     "name": "stdout",
     "output_type": "stream",
     "text": [
      "Enter a positive integer: 3\n",
      "3 is prime number\n"
     ]
    }
   ],
   "source": [
    "number = int(input(\"Enter a positive integer: \"))\n",
    "for i in range(2,number):\n",
    "    if number % i == 0:\n",
    "        print(\"Number is not prime number\")\n",
    "        break\n",
    "    else:\n",
    "        print(number, \"is prime number\")\n",
    "        break\n",
    "        "
   ]
  },
  {
   "cell_type": "markdown",
   "metadata": {},
   "source": [
    "# Question 6"
   ]
  },
  {
   "cell_type": "code",
   "execution_count": 33,
   "metadata": {},
   "outputs": [
    {
     "name": "stdout",
     "output_type": "stream",
     "text": [
      "You bought these items\n",
      "-> Sugar\n",
      "-> Rice\n",
      "-> Salt\n",
      "-> Jeans\n",
      "-> Shoes\n",
      "-> Tshirts\n",
      "-> Facewash\n"
     ]
    }
   ],
   "source": [
    "def userShoppingItems(item1, item2,item3, *itemN):\n",
    "    print(\"You bought these items\")\n",
    "    print(\"->\",item1)\n",
    "    print(\"->\",item2)\n",
    "    print(\"->\",item3)\n",
    "    for item in itemN:\n",
    "        print(\"->\",item)\n",
    "userShoppingItems(\"Sugar\",\"Rice\",\"Salt\",\"Jeans\",\"Shoes\",\"Tshirts\",\"Facewash\")\n",
    "    "
   ]
  },
  {
   "cell_type": "code",
   "execution_count": null,
   "metadata": {},
   "outputs": [],
   "source": []
  }
 ],
 "metadata": {
  "kernelspec": {
   "display_name": "Python 3",
   "language": "python",
   "name": "python3"
  },
  "language_info": {
   "codemirror_mode": {
    "name": "ipython",
    "version": 3
   },
   "file_extension": ".py",
   "mimetype": "text/x-python",
   "name": "python",
   "nbconvert_exporter": "python",
   "pygments_lexer": "ipython3",
   "version": "3.7.1"
  }
 },
 "nbformat": 4,
 "nbformat_minor": 2
}
