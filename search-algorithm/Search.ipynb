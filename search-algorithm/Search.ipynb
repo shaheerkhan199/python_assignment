{
 "cells": [
  {
   "cell_type": "code",
   "execution_count": 2,
   "metadata": {
    "collapsed": true
   },
   "outputs": [],
   "source": [
    "G={}\n",
    "G[1]=[2,3]\n",
    "G[2]=[3,4]\n",
    "G[3]=[]\n",
    "G[4]=[3]"
   ]
  },
  {
   "cell_type": "markdown",
   "metadata": {},
   "source": [
    "# Depth First Search"
   ]
  },
  {
   "cell_type": "code",
   "execution_count": 5,
   "metadata": {
    "collapsed": false
   },
   "outputs": [
    {
     "name": "stdout",
     "output_type": "stream",
     "text": [
      "[1, 3, 2, 4]\n"
     ]
    }
   ],
   "source": [
    "stack=[1]\n",
    "def push(e):\n",
    "    stack.insert(0,e)\n",
    "\n",
    "def pop():\n",
    "    return stack.pop(0)\n",
    "\n",
    "visited=[]\n",
    "\n",
    "while len(stack)!=0:\n",
    "    e=pop()\n",
    "    if e in visited: \n",
    "        pass\n",
    "    else:\n",
    "        visited.append(e)\n",
    "    for k in G[e]:\n",
    "        push(k)\n",
    "print(visited)"
   ]
  },
  {
   "cell_type": "markdown",
   "metadata": {
    "collapsed": true
   },
   "source": [
    "# Breadth First Search"
   ]
  },
  {
   "cell_type": "code",
   "execution_count": 10,
   "metadata": {
    "collapsed": false
   },
   "outputs": [
    {
     "name": "stdout",
     "output_type": "stream",
     "text": [
      "[1, 2, 3, 4]\n"
     ]
    }
   ],
   "source": [
    "queue=[1]\n",
    "def enqueue(e):\n",
    "    queue.append(e)\n",
    "\n",
    "def dequeue():\n",
    "    return queue.pop(0)\n",
    "\n",
    "visited=[]\n",
    "\n",
    "while len(queue)!=0:    \n",
    "    e=dequeue()\n",
    "    if e in visited: \n",
    "        pass\n",
    "    else:\n",
    "        visited.append(e)\n",
    "    for k in G[e]:\n",
    "        enqueue(k)\n",
    "print(visited)"
   ]
  },
  {
   "cell_type": "code",
   "execution_count": null,
   "metadata": {
    "collapsed": true
   },
   "outputs": [],
   "source": []
  }
 ],
 "metadata": {
  "anaconda-cloud": {},
  "kernelspec": {
   "display_name": "Python [Anaconda3]",
   "language": "python",
   "name": "Python [Anaconda3]"
  },
  "language_info": {
   "codemirror_mode": {
    "name": "ipython",
    "version": 3
   },
   "file_extension": ".py",
   "mimetype": "text/x-python",
   "name": "python",
   "nbconvert_exporter": "python",
   "pygments_lexer": "ipython3",
   "version": "3.5.4"
  }
 },
 "nbformat": 4,
 "nbformat_minor": 0
}
